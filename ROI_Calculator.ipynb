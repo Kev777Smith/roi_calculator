{
 "cells": [
  {
   "cell_type": "code",
   "execution_count": null,
   "id": "bff2eae0",
   "metadata": {},
   "outputs": [
    {
     "name": "stdout",
     "output_type": "stream",
     "text": [
      "Welcome to the automated Rental Property Calculator!\n"
     ]
    }
   ],
   "source": [
    "print('Welcome to the automated Rental Property Calculator!')\n",
    "\n",
    "class ROI:\n",
    "    \n",
    "    \n",
    "    def income(self):  \n",
    "        rental = int(input(\"What is the total rental income? \"))\n",
    "        laundry = int(input(\"What is the total laundry income? \"))\n",
    "        storages = int(input(\"What is the total storage income? \"))\n",
    "        misc = int(input(\"What are the total costs of all mics incomes? \"))\n",
    "        self.total_income = rental + laundry + storages + misc\n",
    "        print(f\"The total income per month from your unit will be {self.total_income}.\")\n",
    "    \n",
    "\n",
    "\n",
    "    def expenses(self):\n",
    "        tax = int(input(\"What is the total of the taxes paid on the unit? \"))\n",
    "        insurance = int(input(\"What is the total cost of insurance? \"))\n",
    "        utilities = int(input(\"What are the total costs of utilities? \"))\n",
    "        hoa = int(input(\"What is the total of the HOA costs? \"))\n",
    "        lawn = int(input(\"How much is lawn/snow care? \"))\n",
    "        vacancy = int(input(\"How much would you like to put away for vacany purposes per month? \"))\n",
    "        repairs = int(input(\"What is the total cost of repairs? \"))\n",
    "        capex = int(input(\"What is the total capex? \"))\n",
    "        property_management = int(input(\"What is the total cost of property management fees? \"))\n",
    "        morgage =  int(input(\"How much is the morgage per month? \"))\n",
    "        self.total_expenses = tax + insurance + utilities + hoa + lawn + vacancy + repairs + capex + property_management + morgage\n",
    "        print(f\"The total expenses per month from your unit will be {self.total_expenses}.\")\n",
    "\n",
    "\n",
    "\n",
    "    def cash_flow(self):\n",
    "        self.total_cash_flow = self.total_income - self.total_expenses\n",
    "        print(f\"The total cash flow from your unit will be {self.total_cash_flow}.\")\n",
    "\n",
    "\n",
    "\n",
    "    def cash_on_cash(self):\n",
    "        downpayment = int(input(\"What is the total downpayment? \"))\n",
    "        closing_cost = int(input(\"What is the total closing cost? \"))\n",
    "        repair_budget = int(input(\"What is the total repair budget? \"))\n",
    "        misc_cost = int(input(\"What are the total misc costs if any? \"))\n",
    "        total_cash_on_cash = downpayment + closing_cost + repair_budget + misc_cost\n",
    "        total_investment = self.total_cash_flow / total_cash_on_cash\n",
    "        print(f\"Total ROI: {100 * total_investment:.2f}%\")\n",
    "    \n",
    "roi = ROI()\n",
    "\n",
    "roi.income()\n",
    "roi.expenses()\n",
    "roi.cash_flow()\n",
    "roi.cash_on_cash()\n",
    "\n"
   ]
  }
 ],
 "metadata": {
  "kernelspec": {
   "display_name": "Python 3 (ipykernel)",
   "language": "python",
   "name": "python3"
  },
  "language_info": {
   "codemirror_mode": {
    "name": "ipython",
    "version": 3
   },
   "file_extension": ".py",
   "mimetype": "text/x-python",
   "name": "python",
   "nbconvert_exporter": "python",
   "pygments_lexer": "ipython3",
   "version": "3.9.13"
  }
 },
 "nbformat": 4,
 "nbformat_minor": 5
}
