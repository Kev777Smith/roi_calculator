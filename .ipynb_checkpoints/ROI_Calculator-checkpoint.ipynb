{
 "cells": [
  {
   "cell_type": "code",
   "execution_count": null,
   "id": "224d12e6",
   "metadata": {},
   "outputs": [
    {
     "name": "stdout",
     "output_type": "stream",
     "text": [
      "Welcome to the automated Rental Property Calculator!\n"
     ]
    }
   ],
   "source": [
    "print('Hello! Welcome to the automated Rental Property Calculator!')\n",
    "\n",
    "income = float(input('Please enter your monthly Rental income ($): '))\n",
    "additional = float(input('Please enter any additional income ($): '))\n",
    "\n",
    "total_income = income + additional\n",
    "print('Your total income next month will be ' + str(total_income))\n",
    "print('We will get some expenses data..')\n",
    "\n",
    "def total_expenses():\n",
    "    tax = float(input('Enter your monthly tax ($): '))\n",
    "    utilities = float(input('Enter your monthly utilities ($): '))\n",
    "    insurance = float(input('Enter your monthly insurance expense ($): '))\n",
    "    food = float(input('Enter your monthly food expense ($): '))\n",
    "    hoa = float(input('Enter your monthly hoa expense ($): '))\n",
    "    misc = float(input('Enter any additional monthly expenses ($): '))\n",
    "    total_expenses = tax + utilities + insurance + food + hoa + misc\n",
    "    return total_expenses\n",
    "\n",
    "expense_total = total_expenses()\n",
    "print('Your total expenses next month will be' + str(expense_total))\n",
    "margin = total_income - expense_total\n",
    "if margin >= 0:\n",
    "    print('Your total surplus next month will be $' + str(margin))\n",
    "else:\n",
    "    print('You will come up $' + str(margin) + ' negative!')\n",
    "\n",
    "print('Thank you for using our automated Rental Property Calculator!')"
   ]
  }
 ],
 "metadata": {
  "kernelspec": {
   "display_name": "Python 3 (ipykernel)",
   "language": "python",
   "name": "python3"
  },
  "language_info": {
   "codemirror_mode": {
    "name": "ipython",
    "version": 3
   },
   "file_extension": ".py",
   "mimetype": "text/x-python",
   "name": "python",
   "nbconvert_exporter": "python",
   "pygments_lexer": "ipython3",
   "version": "3.9.13"
  }
 },
 "nbformat": 4,
 "nbformat_minor": 5
}
